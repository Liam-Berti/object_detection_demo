{
 "cells": [
  {
   "cell_type": "code",
   "execution_count": 74,
   "id": "3138b1c1",
   "metadata": {
    "ExecuteTime": {
     "end_time": "2022-03-17T06:47:39.273356Z",
     "start_time": "2022-03-17T06:47:39.259820Z"
    }
   },
   "outputs": [],
   "source": [
    "import os\n",
    "import pandas as pd\n",
    "from torchvision.io import read_image\n",
    "from torch.utils.data import Dataset\n",
    "\n",
    "\n",
    "class Imagenette(Dataset):\n",
    "    def __init__(\n",
    "        self,\n",
    "        annotations_file,\n",
    "        img_dir,\n",
    "        transform=None,\n",
    "        target_transform=None,\n",
    "        valid=False,\n",
    "        label_noise=0,\n",
    "    ):\n",
    "        self.img_labels = pd.read_csv(annotations_file)\n",
    "        self.img_dir = img_dir\n",
    "        self.transform = transform\n",
    "        self.target_transform = target_transform\n",
    "        self.valid = valid\n",
    "\n",
    "        self.img_labels = self.img_labels[self.img_labels[\"is_valid\"] == valid]\n",
    "\n",
    "        # 0 = 0% noise, 1 = 1% noise, 2 = 5% noise, 3 = 25% noise, 4 = 50% noise\n",
    "        if label_noise < 0:\n",
    "            label_noise = 0\n",
    "        elif label_noise > 4:\n",
    "            label_noise = 4\n",
    "        self.label_noise = label_noise + 1\n",
    "\n",
    "        self.classes = {\n",
    "            label: i\n",
    "            for i, label in enumerate(\n",
    "                self.img_labels.iloc[:, self.label_noise].unique()\n",
    "            )\n",
    "        }\n",
    "\n",
    "    def __len__(self) -> int:\n",
    "        return len(self.img_labels)\n",
    "\n",
    "    def __getitem__(self, idx):\n",
    "        img_path = os.path.join(self.img_dir, self.img_labels.iloc[idx, 0])\n",
    "        image = read_image(img_path)\n",
    "        label = self.img_labels.iloc[idx, self.label_noise]\n",
    "        if self.transform:\n",
    "            image = self.transform(image)\n",
    "        if self.target_transform:\n",
    "            label = self.target_transform(label)\n",
    "        label = self.classes[label]\n",
    "        return image, label"
   ]
  },
  {
   "cell_type": "code",
   "execution_count": 76,
   "id": "82b3d2f5",
   "metadata": {
    "ExecuteTime": {
     "end_time": "2022-03-17T06:47:41.733453Z",
     "start_time": "2022-03-17T06:47:41.707657Z"
    }
   },
   "outputs": [],
   "source": [
    "\n",
    "training_data = Imagenette(\n",
    "    \"../data/raw/imagenette2-320/noisy_imagenette.csv\", \"../data/raw/imagenette2-320/\", valid=False, label_noise=2)"
   ]
  },
  {
   "cell_type": "code",
   "execution_count": 77,
   "id": "7c14da02",
   "metadata": {
    "ExecuteTime": {
     "end_time": "2022-03-17T06:47:42.208212Z",
     "start_time": "2022-03-17T06:47:42.203935Z"
    }
   },
   "outputs": [],
   "source": [
    "from torch.utils.data import DataLoader\n",
    "training_generator = DataLoader(training_data)"
   ]
  },
  {
   "cell_type": "code",
   "execution_count": 78,
   "id": "333dcdb0",
   "metadata": {
    "ExecuteTime": {
     "end_time": "2022-03-17T06:47:44.276164Z",
     "start_time": "2022-03-17T06:47:44.267738Z"
    }
   },
   "outputs": [
    {
     "data": {
      "text/plain": [
       "array(['n02979186', 'n03417042', 'n03394916', 'n03888257', 'n02102040',\n",
       "       'n01440764', 'n03000684', 'n03028079', 'n03425413', 'n03445777'],\n",
       "      dtype=object)"
      ]
     },
     "execution_count": 78,
     "metadata": {},
     "output_type": "execute_result"
    }
   ],
   "source": []
  },
  {
   "cell_type": "code",
   "execution_count": 79,
   "id": "9a25a489",
   "metadata": {
    "ExecuteTime": {
     "end_time": "2022-03-17T06:47:45.496312Z",
     "start_time": "2022-03-17T06:47:45.483710Z"
    }
   },
   "outputs": [
    {
     "name": "stdout",
     "output_type": "stream",
     "text": [
      "tensor([[[[177, 176, 175,  ..., 215, 220, 169],\n",
      "          [177, 176, 175,  ..., 225, 185, 162],\n",
      "          [177, 177, 176,  ..., 188, 126, 147],\n",
      "          ...,\n",
      "          [127, 118, 125,  ..., 146, 140, 134],\n",
      "          [ 91,  83,  89,  ..., 145, 138, 132],\n",
      "          [105,  97, 102,  ..., 143, 134, 128]],\n",
      "\n",
      "         [[177, 176, 175,  ..., 215, 220, 169],\n",
      "          [177, 176, 175,  ..., 225, 185, 162],\n",
      "          [177, 177, 176,  ..., 188, 126, 147],\n",
      "          ...,\n",
      "          [127, 118, 125,  ..., 109, 104,  98],\n",
      "          [ 91,  83,  89,  ..., 108, 102,  96],\n",
      "          [105,  97, 102,  ..., 106,  98,  92]],\n",
      "\n",
      "         [[177, 176, 175,  ..., 215, 220, 169],\n",
      "          [177, 176, 175,  ..., 225, 185, 162],\n",
      "          [177, 177, 176,  ..., 188, 126, 147],\n",
      "          ...,\n",
      "          [127, 118, 125,  ...,  82,  78,  72],\n",
      "          [ 91,  83,  89,  ...,  81,  76,  70],\n",
      "          [105,  97, 102,  ...,  79,  72,  66]]]], dtype=torch.uint8) tensor([0])\n"
     ]
    }
   ],
   "source": [
    "for x, y in training_generator:\n",
    "    print(x,y)\n",
    "    break"
   ]
  },
  {
   "cell_type": "code",
   "execution_count": null,
   "id": "f4133830",
   "metadata": {},
   "outputs": [],
   "source": []
  }
 ],
 "metadata": {
  "kernelspec": {
   "display_name": "d2l",
   "language": "python",
   "name": "d2l"
  },
  "language_info": {
   "codemirror_mode": {
    "name": "ipython",
    "version": 3
   },
   "file_extension": ".py",
   "mimetype": "text/x-python",
   "name": "python",
   "nbconvert_exporter": "python",
   "pygments_lexer": "ipython3",
   "version": "3.8.12"
  },
  "toc": {
   "base_numbering": 1,
   "nav_menu": {},
   "number_sections": false,
   "sideBar": true,
   "skip_h1_title": false,
   "title_cell": "Table of Contents",
   "title_sidebar": "Contents",
   "toc_cell": false,
   "toc_position": {},
   "toc_section_display": true,
   "toc_window_display": false
  }
 },
 "nbformat": 4,
 "nbformat_minor": 5
}
